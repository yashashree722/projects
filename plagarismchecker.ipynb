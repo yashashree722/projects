{
 "cells": [
  {
   "cell_type": "code",
   "execution_count": null,
   "id": "8ff68597",
   "metadata": {},
   "outputs": [],
   "source": [
    "import os\n",
    "\n"
   ]
  },
  {
   "cell_type": "code",
   "execution_count": 241,
   "id": "6096b8b1",
   "metadata": {},
   "outputs": [],
   "source": [
    "from sklearn.feature_extraction.text import TfidfVectorizer\n"
   ]
  },
  {
   "cell_type": "code",
   "execution_count": 242,
   "id": "53986cd6",
   "metadata": {},
   "outputs": [],
   "source": [
    "from sklearn.metrics.pairwise import cosine_similarity"
   ]
  },
  {
   "cell_type": "code",
   "execution_count": 243,
   "id": "d8efb5a9",
   "metadata": {},
   "outputs": [],
   "source": [
    "student_files=[doc for doc in os.listdir() if doc.endswith('.txt')]"
   ]
  },
  {
   "cell_type": "code",
   "execution_count": 244,
   "id": "5e781500",
   "metadata": {},
   "outputs": [
    {
     "data": {
      "text/plain": [
       "['m1.txt', 'm2.txt', 'm3.txt']"
      ]
     },
     "execution_count": 244,
     "metadata": {},
     "output_type": "execute_result"
    }
   ],
   "source": [
    "student_files"
   ]
  },
  {
   "cell_type": "code",
   "execution_count": 245,
   "id": "9f65e8ad",
   "metadata": {},
   "outputs": [],
   "source": [
    "student_notes=[open(_file,encoding='utf-8').read() for _file in student_files]"
   ]
  },
  {
   "cell_type": "code",
   "execution_count": 246,
   "id": "4d2c2add",
   "metadata": {},
   "outputs": [
    {
     "data": {
      "text/plain": [
       "['Learning. Cosine similarity is used to find similarities between the two documents. It does this by calculating the similarity score between the vectors, which is done by finding the angles between them. The range of similarities is between 0 and 1. If the value of the similarity score between two vectors is 1, it means ...\\nbhdkfbjf\\nfnngngf\\nmt5488989\\nCosine Similarity in Machine ',\n",
       " 'Cosine Similarity in Machine Learning. Cosine similarity is used to find similarities between the two documents. It does this by calculating the similarity score between the vectors, which is done by finding the angles between them. The range of similarities is between 0 and 1. If the value of the similarity score between two vectors is 1, it means ...',\n",
       " '']"
      ]
     },
     "execution_count": 246,
     "metadata": {},
     "output_type": "execute_result"
    }
   ],
   "source": [
    "student_notes"
   ]
  },
  {
   "cell_type": "code",
   "execution_count": 247,
   "id": "fa9fcca1",
   "metadata": {},
   "outputs": [],
   "source": [
    "def vectorize(text):\n",
    "    return TfidfVectorizer().fit_transform(text).toarray()"
   ]
  },
  {
   "cell_type": "code",
   "execution_count": 248,
   "id": "ad55c936",
   "metadata": {},
   "outputs": [],
   "source": [
    "def similarity(doc1,doc2):\n",
    "    return cosine_similarity([doc1,doc2])"
   ]
  },
  {
   "cell_type": "code",
   "execution_count": 249,
   "id": "0b4d784a",
   "metadata": {},
   "outputs": [],
   "source": [
    "vectors=vectorize(student_notes)"
   ]
  },
  {
   "cell_type": "code",
   "execution_count": 250,
   "id": "25d5fa5c",
   "metadata": {},
   "outputs": [
    {
     "data": {
      "text/plain": [
       "array([[0.07828122, 0.07828122, 0.3914061 , 0.1029304 , 0.15656244,\n",
       "        0.07828122, 0.15656244, 0.07828122, 0.07828122, 0.07828122,\n",
       "        0.07828122, 0.07828122, 0.1029304 , 0.07828122, 0.07828122,\n",
       "        0.31312488, 0.15656244, 0.07828122, 0.07828122, 0.07828122,\n",
       "        0.1029304 , 0.15656244, 0.07828122, 0.15656244, 0.15656244,\n",
       "        0.31312488, 0.54796854, 0.07828122, 0.07828122, 0.07828122,\n",
       "        0.15656244, 0.07828122, 0.07828122, 0.15656244, 0.07828122],\n",
       "       [0.07955573, 0.07955573, 0.39777864, 0.        , 0.15911146,\n",
       "        0.07955573, 0.15911146, 0.07955573, 0.07955573, 0.07955573,\n",
       "        0.07955573, 0.07955573, 0.        , 0.07955573, 0.07955573,\n",
       "        0.31822291, 0.15911146, 0.07955573, 0.07955573, 0.07955573,\n",
       "        0.        , 0.15911146, 0.07955573, 0.15911146, 0.15911146,\n",
       "        0.31822291, 0.5568901 , 0.07955573, 0.07955573, 0.07955573,\n",
       "        0.15911146, 0.07955573, 0.07955573, 0.15911146, 0.07955573],\n",
       "       [0.        , 0.        , 0.        , 0.        , 0.        ,\n",
       "        0.        , 0.        , 0.        , 0.        , 0.        ,\n",
       "        0.        , 0.        , 0.        , 0.        , 0.        ,\n",
       "        0.        , 0.        , 0.        , 0.        , 0.        ,\n",
       "        0.        , 0.        , 0.        , 0.        , 0.        ,\n",
       "        0.        , 0.        , 0.        , 0.        , 0.        ,\n",
       "        0.        , 0.        , 0.        , 0.        , 0.        ]])"
      ]
     },
     "execution_count": 250,
     "metadata": {},
     "output_type": "execute_result"
    }
   ],
   "source": [
    "vectors"
   ]
  },
  {
   "cell_type": "code",
   "execution_count": 251,
   "id": "ad6db62d",
   "metadata": {},
   "outputs": [],
   "source": [
    "s_vectors=list(zip(student_files,vectors))"
   ]
  },
  {
   "cell_type": "code",
   "execution_count": 252,
   "id": "f5ef094f",
   "metadata": {},
   "outputs": [
    {
     "data": {
      "text/plain": [
       "[('m1.txt',\n",
       "  array([0.07828122, 0.07828122, 0.3914061 , 0.1029304 , 0.15656244,\n",
       "         0.07828122, 0.15656244, 0.07828122, 0.07828122, 0.07828122,\n",
       "         0.07828122, 0.07828122, 0.1029304 , 0.07828122, 0.07828122,\n",
       "         0.31312488, 0.15656244, 0.07828122, 0.07828122, 0.07828122,\n",
       "         0.1029304 , 0.15656244, 0.07828122, 0.15656244, 0.15656244,\n",
       "         0.31312488, 0.54796854, 0.07828122, 0.07828122, 0.07828122,\n",
       "         0.15656244, 0.07828122, 0.07828122, 0.15656244, 0.07828122])),\n",
       " ('m2.txt',\n",
       "  array([0.07955573, 0.07955573, 0.39777864, 0.        , 0.15911146,\n",
       "         0.07955573, 0.15911146, 0.07955573, 0.07955573, 0.07955573,\n",
       "         0.07955573, 0.07955573, 0.        , 0.07955573, 0.07955573,\n",
       "         0.31822291, 0.15911146, 0.07955573, 0.07955573, 0.07955573,\n",
       "         0.        , 0.15911146, 0.07955573, 0.15911146, 0.15911146,\n",
       "         0.31822291, 0.5568901 , 0.07955573, 0.07955573, 0.07955573,\n",
       "         0.15911146, 0.07955573, 0.07955573, 0.15911146, 0.07955573])),\n",
       " ('m3.txt',\n",
       "  array([0., 0., 0., 0., 0., 0., 0., 0., 0., 0., 0., 0., 0., 0., 0., 0., 0.,\n",
       "         0., 0., 0., 0., 0., 0., 0., 0., 0., 0., 0., 0., 0., 0., 0., 0., 0.,\n",
       "         0.]))]"
      ]
     },
     "execution_count": 252,
     "metadata": {},
     "output_type": "execute_result"
    }
   ],
   "source": [
    "s_vectors"
   ]
  },
  {
   "cell_type": "code",
   "execution_count": 253,
   "id": "df395ffe",
   "metadata": {},
   "outputs": [],
   "source": [
    "plagarism_results=set()"
   ]
  },
  {
   "cell_type": "code",
   "execution_count": 254,
   "id": "2316af00",
   "metadata": {},
   "outputs": [],
   "source": [
    "def check_plagiarism():\n",
    "    global s_vectors\n",
    "    for student_a,text_vector_a in s_vectors:\n",
    "        new_vetors=s_vectors.copy()\n",
    "        current_index=new_vetors.index((student_a,text_vector_a))\n",
    "        print(current_index)\n",
    "        del new_vetors[current_index]\n",
    "        for student_b,text_vector_b in new_vetors:\n",
    "            sim_score=similarity(text_vector_a,text_vector_b)[0][1]\n",
    "            print(similarity(text_vector_a,text_vector_b)[0][1])\n",
    "            student_pair=sorted((student_a,student_b))\n",
    "#              print(similarity(text_vector_a,text_vector_b))\n",
    "#              print(student_pair)\n",
    "            score=(student_pair[0],student_pair[1],sim_score)\n",
    "            plagarism_results.add(score)\n",
    "    return plagarism_results   "
   ]
  },
  {
   "cell_type": "code",
   "execution_count": 255,
   "id": "c6a9ea03",
   "metadata": {},
   "outputs": [
    {
     "name": "stdout",
     "output_type": "stream",
     "text": [
      "0\n",
      "0.9839796747404009\n",
      "0.0\n",
      "1\n",
      "0.9839796747404009\n",
      "0.0\n",
      "2\n",
      "0.0\n",
      "0.0\n",
      "('m1.txt', 'm2.txt', 0.9839796747404009)\n",
      "('m1.txt', 'm3.txt', 0.0)\n",
      "('m2.txt', 'm3.txt', 0.0)\n"
     ]
    }
   ],
   "source": [
    "for data in check_plagiarism():\n",
    "    print(data)"
   ]
  },
  {
   "cell_type": "code",
   "execution_count": null,
   "id": "13a78c8e",
   "metadata": {},
   "outputs": [],
   "source": []
  },
  {
   "cell_type": "code",
   "execution_count": null,
   "id": "8d1e270b",
   "metadata": {},
   "outputs": [],
   "source": []
  },
  {
   "cell_type": "code",
   "execution_count": null,
   "id": "88c17b65",
   "metadata": {},
   "outputs": [],
   "source": []
  },
  {
   "cell_type": "code",
   "execution_count": null,
   "id": "e7b5affd",
   "metadata": {},
   "outputs": [],
   "source": []
  }
 ],
 "metadata": {
  "kernelspec": {
   "display_name": "Python 3.9.7 ('base')",
   "language": "python",
   "name": "python3"
  },
  "language_info": {
   "codemirror_mode": {
    "name": "ipython",
    "version": 3
   },
   "file_extension": ".py",
   "mimetype": "text/x-python",
   "name": "python",
   "nbconvert_exporter": "python",
   "pygments_lexer": "ipython3",
   "version": "3.9.7"
  },
  "vscode": {
   "interpreter": {
    "hash": "0e0d5a91f37e5e94c46f0fcb877a7750a213205c99f3374c7ae9a15f2ce6e579"
   }
  }
 },
 "nbformat": 4,
 "nbformat_minor": 5
}
